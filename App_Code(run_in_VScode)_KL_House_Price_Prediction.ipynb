{
  "nbformat": 4,
  "nbformat_minor": 0,
  "metadata": {
    "colab": {
      "provenance": []
    },
    "kernelspec": {
      "name": "python3",
      "display_name": "Python 3"
    },
    "language_info": {
      "name": "python"
    }
  },
  "cells": [
    {
      "cell_type": "code",
      "execution_count": null,
      "metadata": {
        "colab": {
          "base_uri": "https://localhost:8080/",
          "height": 383
        },
        "id": "JJFOafxakXz6",
        "outputId": "3f2d7590-7163-4dbf-991d-4ec261962647"
      },
      "outputs": [
        {
          "output_type": "error",
          "ename": "ModuleNotFoundError",
          "evalue": "No module named 'streamlit'",
          "traceback": [
            "\u001b[0;31m---------------------------------------------------------------------------\u001b[0m",
            "\u001b[0;31mModuleNotFoundError\u001b[0m                       Traceback (most recent call last)",
            "\u001b[0;32m<ipython-input-2-075da281541d>\u001b[0m in \u001b[0;36m<cell line: 1>\u001b[0;34m()\u001b[0m\n\u001b[0;32m----> 1\u001b[0;31m \u001b[0;32mimport\u001b[0m \u001b[0mstreamlit\u001b[0m \u001b[0;32mas\u001b[0m \u001b[0mst\u001b[0m\u001b[0;34m\u001b[0m\u001b[0;34m\u001b[0m\u001b[0m\n\u001b[0m\u001b[1;32m      2\u001b[0m \u001b[0;32mimport\u001b[0m \u001b[0mpandas\u001b[0m \u001b[0;32mas\u001b[0m \u001b[0mpd\u001b[0m\u001b[0;34m\u001b[0m\u001b[0;34m\u001b[0m\u001b[0m\n\u001b[1;32m      3\u001b[0m \u001b[0;32mfrom\u001b[0m \u001b[0msklearn\u001b[0m\u001b[0;34m.\u001b[0m\u001b[0mmodel_selection\u001b[0m \u001b[0;32mimport\u001b[0m \u001b[0mtrain_test_split\u001b[0m\u001b[0;34m\u001b[0m\u001b[0;34m\u001b[0m\u001b[0m\n\u001b[1;32m      4\u001b[0m \u001b[0;32mfrom\u001b[0m \u001b[0msklearn\u001b[0m\u001b[0;34m.\u001b[0m\u001b[0mtree\u001b[0m \u001b[0;32mimport\u001b[0m \u001b[0mDecisionTreeRegressor\u001b[0m\u001b[0;34m\u001b[0m\u001b[0;34m\u001b[0m\u001b[0m\n\u001b[1;32m      5\u001b[0m \u001b[0;32mfrom\u001b[0m \u001b[0msklearn\u001b[0m\u001b[0;34m.\u001b[0m\u001b[0mpreprocessing\u001b[0m \u001b[0;32mimport\u001b[0m \u001b[0mLabelEncoder\u001b[0m\u001b[0;34m\u001b[0m\u001b[0;34m\u001b[0m\u001b[0m\n",
            "\u001b[0;31mModuleNotFoundError\u001b[0m: No module named 'streamlit'",
            "",
            "\u001b[0;31m---------------------------------------------------------------------------\u001b[0;32m\nNOTE: If your import is failing due to a missing package, you can\nmanually install dependencies using either !pip or !apt.\n\nTo view examples of installing some common dependencies, click the\n\"Open Examples\" button below.\n\u001b[0;31m---------------------------------------------------------------------------\u001b[0m\n"
          ],
          "errorDetails": {
            "actions": [
              {
                "action": "open_url",
                "actionText": "Open Examples",
                "url": "/notebooks/snippets/importing_libraries.ipynb"
              }
            ]
          }
        }
      ],
      "source": [
        "import streamlit as st\n",
        "import pandas as pd\n",
        "from sklearn.model_selection import train_test_split\n",
        "from sklearn.tree import DecisionTreeRegressor\n",
        "from sklearn.preprocessing import LabelEncoder\n",
        "from sklearn.metrics import mean_absolute_error, mean_squared_error, r2_score\n",
        "\n",
        "# Load df11 from the CSV file\n",
        "df11 = pd.read_csv('df11.csv')\n",
        "\n",
        "# Features and target variable\n",
        "X = df11[['Location', 'Size', 'Rooms', 'Bathrooms']]\n",
        "y = df11['Price']\n",
        "\n",
        "# Encode categorical features (e.g., Location)\n",
        "le = LabelEncoder()\n",
        "X['Location'] = le.fit_transform(X['Location'])\n",
        "\n",
        "# Split the dataset into training and testing sets\n",
        "X_train, X_test, y_train, y_test = train_test_split(X, y, test_size=0.2, random_state=42)\n",
        "\n",
        "# Train the Decision Tree Regressor\n",
        "dt = DecisionTreeRegressor(random_state=42)\n",
        "dt.fit(X_train, y_train)\n",
        "\n",
        "# Make predictions on the test set\n",
        "y_pred = dt.predict(X_test)\n",
        "\n",
        "# Calculate performance metrics\n",
        "mae = mean_absolute_error(y_test, y_pred)\n",
        "mse = mean_squared_error(y_test, y_pred)\n",
        "r2 = r2_score(y_test, y_pred)\n",
        "\n",
        "# Streamlit app title\n",
        "st.title(\"KL Property Price Prediction\")\n",
        "\n",
        "# User inputs\n",
        "location = st.text_input(\"Location\")\n",
        "size = st.number_input(\"Size (in sqft)\", min_value=500, max_value=10000, step=100)\n",
        "rooms = st.number_input(\"Number of Rooms\", min_value=1, max_value=10, step=1)\n",
        "bathrooms = st.number_input(\"Number of Bathrooms\", min_value=1, max_value=10, step=1)\n",
        "\n",
        "# Prediction button\n",
        "if st.button(\"Predict\"):\n",
        "    # Prepare the input data\n",
        "    new_data = {\n",
        "        'Location': location,\n",
        "        'Size': size,\n",
        "        'Rooms': rooms,\n",
        "        'Bathrooms': bathrooms\n",
        "    }\n",
        "    new_data_df = pd.DataFrame([new_data])\n",
        "\n",
        "    # Transform the Location column using the label encoder\n",
        "    try:\n",
        "        new_data_df['Location'] = le.transform(new_data_df['Location'])\n",
        "    except ValueError:\n",
        "        st.error(f\"Location '{location}' is not recognized. Please enter a valid location.\")\n",
        "        st.stop()\n",
        "\n",
        "    # Ensure the new data has the same columns as the training data\n",
        "    input_data = new_data_df[X_train.columns]\n",
        "\n",
        "    # Make prediction\n",
        "    predicted_price = dt.predict(input_data)\n",
        "\n",
        "    st.write(f\"Predicted Price: RM{predicted_price[0]:,.2f}\")\n",
        "\n",
        "# Display performance metrics\n",
        "st.subheader(\"Model Performance Metrics\")\n",
        "st.write(f\"Mean Absolute Error (MAE): {mae}\")\n",
        "st.write(f\"Mean Squared Error (MSE): {mse}\")\n",
        "st.write(f\"R-squared: {r2}\")\n",
        "\n",
        "\n",
        "\n"
      ]
    }
  ]
}